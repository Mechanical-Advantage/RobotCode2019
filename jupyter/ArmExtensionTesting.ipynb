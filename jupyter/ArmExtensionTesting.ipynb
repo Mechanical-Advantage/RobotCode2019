{
 "cells": [
  {
   "cell_type": "code",
   "execution_count": 1,
   "metadata": {},
   "outputs": [],
   "source": [
    "from math import *"
   ]
  },
  {
   "cell_type": "code",
   "execution_count": 24,
   "metadata": {},
   "outputs": [
    {
     "name": "stdout",
     "output_type": "stream",
     "text": [
      "-12.0\n",
      "-6.000000000000002\n"
     ]
    }
   ],
   "source": [
    "elbow_offset_low = 0\n",
    "elbow_offset_high = 60\n",
    "bicep_length = 12\n",
    "shoulder_distance_low = -1 * cos(radians(elbow_offset_low)) * bicep_length # How far forward of the shoulder base the elbow joint is when the shoulder is lowered\n",
    "print(shoulder_distance_low)\n",
    "shoulder_distance_high = -1 * cos(radians(elbow_offset_high)) * bicep_length # How far forward of the shoulder base the elbow joint is when the shoulder is raised\n",
    "print(shoulder_distance_high)\n",
    "forearm_length = 12 # Length of the forearm with no telescope extension\n",
    "frame_perimeter_front_from_shoulder = 6 # How far forward the front edge of the frame perimeter is from the shoulder joint\n",
    "frame_perimeter_back_from_shoulder = -20 # How far forward the back edge of the frame perimeter is from the shoulder joint\n",
    "allowed_frame_extension = 30"
   ]
  },
  {
   "cell_type": "code",
   "execution_count": 30,
   "metadata": {},
   "outputs": [
    {
     "name": "stdout",
     "output_type": "stream",
     "text": [
      "Distance from elbow: 31.513848096390657\n",
      "Distance from shoulder: 19.513848096390657\n",
      "Extension from frame perimeter: 13.513848096390657\n"
     ]
    }
   ],
   "source": [
    "# These would not be constants in reality\n",
    "telescope_extension = 20\n",
    "elbow_angle = 10 # This would already have shoulder angle taken into account\n",
    "shoulder_high = False\n",
    "distance_from_elbow = cos(radians(elbow_angle)) * (telescope_extension+forearm_length)\n",
    "print(\"Distance from elbow:\", extension_from_elbow)\n",
    "distance_from_shoulder = distance_from_elbow + (shoulder_distance_high if shoulder_high else shoulder_distance_low)\n",
    "print(\"Distance from shoulder:\", distance_from_shoulder)\n",
    "extension_from_frame_perimeter = distance_from_shoulder - (frame_perimeter_front_from_shoulder if elbow_angle <= 90 else frame_perimeter_back_from_shoulder)\n",
    "# If from back of frame perimeter, pos/neg swapped so that positive means outside perimeter not forward\n",
    "if elbow_angle > 90:\n",
    "    extension_from_frame_perimeter *= -1\n",
    "print(\"Extension from frame perimeter:\", extension_from_frame_perimeter)"
   ]
  },
  {
   "cell_type": "code",
   "execution_count": 29,
   "metadata": {},
   "outputs": [
    {
     "name": "stdout",
     "output_type": "stream",
     "text": [
      "-50\n",
      "-38.0\n",
      "218.83327835945812\n"
     ]
    },
    {
     "data": {
      "text/plain": [
       "206.83327835945812"
      ]
     },
     "execution_count": 29,
     "metadata": {},
     "output_type": "execute_result"
    }
   ],
   "source": [
    "elbow_angle = 100\n",
    "shoulder_high = False\n",
    "allowed_distance_from_shoulder = allowed_frame_extension * (-1 if elbow_angle > 90 else 1) + (frame_perimeter_front_from_shoulder if elbow_angle <= 90 else frame_perimeter_back_from_shoulder)\n",
    "print(allowed_distance_from_shoulder)\n",
    "allowed_distance_from_elbow = allowed_distance_from_shoulder - (shoulder_distance_high if shoulder_high else shoulder_distance_low)\n",
    "print(allowed_distance_from_elbow)\n",
    "allowed_extension_from_elbow = allowed_distance_from_elbow / cos(radians(elbow_angle))\n",
    "print(allowed_extension_from_elbow)\n",
    "allowed_extension = allowed_extension_from_elbow - forearm_length\n",
    "allowed_extension"
   ]
  },
  {
   "cell_type": "code",
   "execution_count": null,
   "metadata": {},
   "outputs": [],
   "source": []
  }
 ],
 "metadata": {
  "kernelspec": {
   "display_name": "Python 3",
   "language": "python",
   "name": "python3"
  },
  "language_info": {
   "codemirror_mode": {
    "name": "ipython",
    "version": 3
   },
   "file_extension": ".py",
   "mimetype": "text/x-python",
   "name": "python",
   "nbconvert_exporter": "python",
   "pygments_lexer": "ipython3",
   "version": "3.7.2"
  }
 },
 "nbformat": 4,
 "nbformat_minor": 2
}
